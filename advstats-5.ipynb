{
 "cells": [
  {
   "cell_type": "code",
   "execution_count": 1,
   "id": "e747ca9b-4514-4956-8fc7-5b873f2a2029",
   "metadata": {},
   "outputs": [
    {
     "ename": "SyntaxError",
     "evalue": "unterminated string literal (detected at line 3) (3318004527.py, line 3)",
     "output_type": "error",
     "traceback": [
      "\u001b[0;36m  Cell \u001b[0;32mIn[1], line 3\u001b[0;36m\u001b[0m\n\u001b[0;31m    To calculate the 95% confidence interval, we can use the scipy.stats module in Python. Specifically, we'll use the norm.interval function, which returns the confidence interval for a normal distribution.\u001b[0m\n\u001b[0m                                                                                                           ^\u001b[0m\n\u001b[0;31mSyntaxError\u001b[0m\u001b[0;31m:\u001b[0m unterminated string literal (detected at line 3)\n"
     ]
    }
   ],
   "source": [
    "#Q1. Calculate the 95% confidence interval for a sample of data with a mean of 50 and a standard deviation of 5 using Python. Interpret the results.\n",
    "\n",
    "To calculate the 95% confidence interval, we can use the scipy.stats module in Python. Specifically, we'll use the norm.interval function, which returns the confidence interval for a normal distribution."
   ]
  },
  {
   "cell_type": "code",
   "execution_count": 4,
   "id": "e14a1113-3b3d-4a06-b116-a1c81b6a2d2e",
   "metadata": {},
   "outputs": [
    {
     "name": "stdout",
     "output_type": "stream",
     "text": [
      "95% Confidence Interval: (48.210805856282846, 51.789194143717154)\n"
     ]
    }
   ],
   "source": [
    "import scipy.stats as stats\n",
    "\n",
    "mean = 50\n",
    "std_dev = 5\n",
    "n = 30  # sample size (assuming 30 observations)\n",
    "\n",
    "confidence_level = 0.95\n",
    "z_score = stats.norm.ppf(1 - (1 - confidence_level) / 2)\n",
    "\n",
    "margin_of_error = z_score * std_dev / np.sqrt(n)\n",
    "confidence_interval = (mean - margin_of_error, mean + margin_of_error)\n",
    "\n",
    "print(\"95% Confidence Interval:\", confidence_interval)"
   ]
  },
  {
   "cell_type": "code",
   "execution_count": 3,
   "id": "935a0d8a-d936-47e5-beee-82058ad05b5e",
   "metadata": {},
   "outputs": [],
   "source": [
    "import numpy as np"
   ]
  },
  {
   "cell_type": "code",
   "execution_count": 5,
   "id": "656ef411-197b-4fbd-908b-2ddca4b202da",
   "metadata": {},
   "outputs": [],
   "source": [
    "#Q2. Conduct a chi-square goodness of fit test to determine if the distribution of colors of M&Ms in a bag matches the expected distribution of 20% blue, 20% orange, 20% green, 10% yellow, 10% red, and 20% brown. Use Python to perform the test with a significance level of 0.05.\n",
    "\n",
    "observed_frequencies = [40, 35, 45, 20, 15, 45]  # blue, orange, green, yellow, red, brown"
   ]
  },
  {
   "cell_type": "code",
   "execution_count": 6,
   "id": "4b66c833-f0a5-4a88-b19c-9df89ca96a23",
   "metadata": {},
   "outputs": [],
   "source": [
    "expected_proportions = [0.2, 0.2, 0.2, 0.1, 0.1, 0.2]\n",
    "total_observed = sum(observed_frequencies)\n",
    "expected_frequencies = [total_observed * p for p in expected_proportions]"
   ]
  },
  {
   "cell_type": "code",
   "execution_count": 7,
   "id": "5d1a8a84-0f89-4e85-a418-e4f755c9a3c2",
   "metadata": {},
   "outputs": [
    {
     "name": "stdout",
     "output_type": "stream",
     "text": [
      "Chi-square statistic: 1.6358543417366946\n",
      "p-value: 0.8968798468546506\n",
      "Degrees of freedom: 5\n"
     ]
    }
   ],
   "source": [
    "from scipy.stats import chi2_contingency\n",
    "\n",
    "chi2, p, dof, expected = chi2_contingency([observed_frequencies, expected_frequencies])\n",
    "\n",
    "print(\"Chi-square statistic:\", chi2)\n",
    "print(\"p-value:\", p)\n",
    "print(\"Degrees of freedom:\", dof)"
   ]
  },
  {
   "cell_type": "code",
   "execution_count": 8,
   "id": "b5686f6b-0bfc-4027-b799-0a73eefec10f",
   "metadata": {},
   "outputs": [
    {
     "name": "stdout",
     "output_type": "stream",
     "text": [
      "Chi-square statistic: 5.833333333333334\n",
      "p-value: 0.05411376622282158\n",
      "Degrees of freedom: 2\n"
     ]
    }
   ],
   "source": [
    "#Q3. Use Python to calculate the chi-square statistic and p-value for a contingency table with the following data:\n",
    "\n",
    "from scipy.stats import chi2_contingency\n",
    "\n",
    "contingency_table = [[20,15], [10,25], [15,20]]\n",
    "chi2, p, dof, expected = chi2_contingency(contingency_table)\n",
    "\n",
    "print(\"Chi-square statistic:\", chi2)\n",
    "print(\"p-value:\", p)\n",
    "print(\"Degrees of freedom:\", dof)"
   ]
  },
  {
   "cell_type": "code",
   "execution_count": 9,
   "id": "47f1e3c1-8549-4c5c-946e-374fa21ac205",
   "metadata": {},
   "outputs": [
    {
     "name": "stdout",
     "output_type": "stream",
     "text": [
      "95% Confidence Interval: (0.09151586546865079, 0.1484841345313492)\n"
     ]
    }
   ],
   "source": [
    "#Q4. A study of the prevalence of smoking in a population of 500 individuals found that 60 individuals smoked. Use Python to calculate the 95% confidence interval for the true proportion of individuals in the population who smoke.\n",
    "\n",
    "from scipy.stats import binom\n",
    "\n",
    "n = 500\n",
    "k = 60\n",
    "p_hat = k / n\n",
    "\n",
    "z_score = 1.96  # for 95% confidence interval\n",
    "std_err = np.sqrt(p_hat * (1 - p_hat) / n)\n",
    "margin_of_error = z_score * std_err\n",
    "\n",
    "confidence_interval = (p_hat - margin_of_error, p_hat + margin_of_error)\n",
    "\n",
    "print(\"95% Confidence Interval:\", confidence_interval)"
   ]
  },
  {
   "cell_type": "code",
   "execution_count": 10,
   "id": "31f1a59d-d1ee-4340-9bb2-deb1502fcd1f",
   "metadata": {},
   "outputs": [
    {
     "name": "stdout",
     "output_type": "stream",
     "text": [
      "90% Confidence Interval: (71.39630625889797, 78.60369374110203)\n"
     ]
    }
   ],
   "source": [
    "#Q5. Calculate the 90% confidence interval for a sample of data with a mean of 75 and a standard deviation of 12 using Python. Interpret the results.\n",
    "\n",
    "import numpy as np\n",
    "from scipy.stats import norm\n",
    "\n",
    "mean = 75\n",
    "std_dev = 12\n",
    "n = 30  # sample size (assuming 30 observations)\n",
    "\n",
    "confidence_level = 0.9\n",
    "z_score = norm.ppf(1 - (1 - confidence_level) / 2)\n",
    "\n",
    "margin_of_error = z_score * std_dev / np.sqrt(n)\n",
    "confidence_interval = (mean - margin_of_error, mean + margin_of_error)\n",
    "\n",
    "print(\"90% Confidence Interval:\", confidence_interval)"
   ]
  },
  {
   "cell_type": "code",
   "execution_count": 11,
   "id": "3fa742f6-7b8c-42db-89c1-672a1552d305",
   "metadata": {},
   "outputs": [
    {
     "data": {
      "text/plain": [
       "<function matplotlib.pyplot.fill_between(x, y1, y2=0, where=None, interpolate=False, step=None, *, data=None, **kwargs)>"
      ]
     },
     "execution_count": 11,
     "metadata": {},
     "output_type": "execute_result"
    },
    {
     "data": {
      "image/png": "[encoded data removed]",
      "text/plain": [
       "<Figure size 640x480 with 1 Axes>"
      ]
     },
     "metadata": {},
     "output_type": "display_data"
    }
   ],
   "source": [
    "#Q6. Use Python to plot the chi-square distribution with 10 degrees of freedom. Label the axes and shade the area corresponding to a chi-square statistic of 15.\n",
    "\n",
    "import numpy as np\n",
    "import matplotlib.pyplot as plt\n",
    "from scipy.stats import chi2\n",
    "\n",
    "dof = 10\n",
    "x = np.linspace(0, 30, 100)\n",
    "y = chi2.pdf(x, dof)\n",
    "\n",
    "plt.plot(x, y)\n",
    "plt.xlabel(\"Chi-square statistic\")\n",
    "plt.ylabel(\"Probability density\")\n",
    "plt.title(\"Chi-square distribution with 10 degrees of freedom\")\n",
    "\n",
    "# Shade the area corresponding to a chi-square statistic of 15\n",
    "x_shade = np.linspace(15, 30, 100)\n",
    "y_shade = chi2.pdf(x_shade, dof)\n",
    "plt.fill_between"
   ]
  },
  {
   "cell_type": "code",
   "execution_count": 12,
   "id": "7e73b005-950a-43bc-9904-7f4bc79d8d15",
   "metadata": {},
   "outputs": [
    {
     "name": "stdout",
     "output_type": "stream",
     "text": [
      "99% Confidence Interval: (0.47930246089012263, 0.5606975391098774)\n"
     ]
    }
   ],
   "source": [
    "#Q7. A random sample of 1000 people was asked if they preferred Coke or Pepsi. Of the sample, 520 preferred Coke. Calculate a 99% confidence interval for the true proportion of people in the population who prefer Coke.\n",
    "\n",
    "from scipy.stats import binom\n",
    "\n",
    "n = 1000\n",
    "k = 520\n",
    "p_hat = k / n\n",
    "\n",
    "z_score = 2.576  # for 99% confidence interval\n",
    "std_err = np.sqrt(p_hat * (1 - p_hat) / n)\n",
    "margin_of_error = z_score * std_err\n",
    "\n",
    "confidence_interval = (p_hat - margin_of_error, p_hat + margin_of_error)\n",
    "\n",
    "print(\"99% Confidence Interval:\", confidence_interval)"
   ]
  },
  {
   "cell_type": "code",
   "execution_count": 13,
   "id": "482c7af7-d6f3-4160-a3b2-f5ba05f99680",
   "metadata": {},
   "outputs": [
    {
     "name": "stdout",
     "output_type": "stream",
     "text": [
      "Chi-square statistic: 0.3208020050125313\n",
      "p-value: 0.5711260675200032\n",
      "Degrees of freedom: 1\n"
     ]
    }
   ],
   "source": [
    "#Q8. A researcher hypothesizes that a coin is biased towards tails. They flip the coin 100 times and observe 45 tails. Conduct a chi-square goodness of fit test to determine if the observed frequencies match the expected frequencies of a fair coin. Use a significance level of 0.05.\n",
    "\n",
    "expected_frequencies = [50, 50]  # heads, tails\n",
    "\n",
    "from scipy.stats import chi2_contingency\n",
    "\n",
    "observed_frequencies = [45, 55]  # tails, heads\n",
    "chi2, p, dof, expected = chi2_contingency([observed_frequencies, expected_frequencies])\n",
    "\n",
    "print(\"Chi-square statistic:\", chi2)\n",
    "print(\"p-value:\", p)\n",
    "print(\"Degrees of freedom:\", dof)"
   ]
  },
  {
   "cell_type": "code",
   "execution_count": 14,
   "id": "152e78a0-0e24-4711-ab39-20ee8fc1f0dd",
   "metadata": {},
   "outputs": [
    {
     "name": "stdout",
     "output_type": "stream",
     "text": [
      "Chi-square statistic: 12.057347670250895\n",
      "p-value: 0.0005158863863703744\n",
      "Degrees of freedom: 1\n"
     ]
    }
   ],
   "source": [
    "#Q9. A study was conducted to determine if there is an association between smoking status (smoker or non-smoker) and lung cancer diagnosis (yes or no). The results are shown in the contingency table below. Conduct a chi-square test for independence to determine if there is a significant association between smoking status and lung cancer diagnosis.\n",
    "\n",
    "\n",
    "from scipy.stats import chi2_contingency\n",
    "\n",
    "contingency_table = [[60,140], [30, 170]]\n",
    "\n",
    "chi2, p, dof, expected = chi2_contingency(contingency_table)\n",
    "\n",
    "print(\"Chi-square statistic:\", chi2)\n",
    "print(\"p-value:\", p)\n",
    "print(\"Degrees of freedom:\", dof)"
   ]
  },
  {
   "cell_type": "code",
   "execution_count": null,
   "id": "8f597341-bdcf-4cd4-a6ec-09127ef69792",
   "metadata": {},
   "outputs": [],
   "source": []
  }
 ],
 "metadata": {
  "kernelspec": {
   "display_name": "Python 3 (ipykernel)",
   "language": "python",
   "name": "python3"
  },
  "language_info": {
   "codemirror_mode": {
    "name": "ipython",
    "version": 3
   },
   "file_extension": ".py",
   "mimetype": "text/x-python",
   "name": "python",
   "nbconvert_exporter": "python",
   "pygments_lexer": "ipython3",
   "version": "3.10.8"
  }
 },
 "nbformat": 4,
 "nbformat_minor": 5
}
